{
  "cells": [
    {
      "cell_type": "markdown",
      "id": "3f71c655",
      "metadata": {
        "papermill": {
          "duration": 0.009112,
          "end_time": "2023-09-27T07:48:20.676769",
          "exception": false,
          "start_time": "2023-09-27T07:48:20.667657",
          "status": "completed"
        },
        "tags": [],
        "id": "3f71c655"
      },
      "source": [
        "## 1.Import Basic Libraries"
      ]
    },
    {
      "cell_type": "code",
      "execution_count": 1,
      "id": "40bfcb25",
      "metadata": {
        "execution": {
          "iopub.execute_input": "2023-09-27T07:48:20.696679Z",
          "iopub.status.busy": "2023-09-27T07:48:20.696273Z",
          "iopub.status.idle": "2023-09-27T07:48:29.548588Z",
          "shell.execute_reply": "2023-09-27T07:48:29.547633Z"
        },
        "papermill": {
          "duration": 8.865502,
          "end_time": "2023-09-27T07:48:29.551421",
          "exception": false,
          "start_time": "2023-09-27T07:48:20.685919",
          "status": "completed"
        },
        "tags": [],
        "id": "40bfcb25"
      },
      "outputs": [],
      "source": [
        "import numpy as np\n",
        "import pandas as pd\n",
        "import tensorflow as tf\n",
        "from tensorflow.keras.preprocessing.sequence import pad_sequences\n",
        "from tensorflow.keras.models import Sequential\n",
        "from tensorflow.keras.layers import Embedding, SimpleRNN, LSTM, GRU, Dense, Dropout\n",
        "from tensorflow.keras.callbacks import EarlyStopping\n",
        "from tensorflow.keras.preprocessing.text import Tokenizer"
      ]
    },
    {
      "cell_type": "code",
      "execution_count": 2,
      "id": "743ef2b4",
      "metadata": {
        "execution": {
          "iopub.execute_input": "2023-09-27T07:48:29.571844Z",
          "iopub.status.busy": "2023-09-27T07:48:29.571261Z",
          "iopub.status.idle": "2023-09-27T07:48:29.576005Z",
          "shell.execute_reply": "2023-09-27T07:48:29.575002Z"
        },
        "papermill": {
          "duration": 0.01753,
          "end_time": "2023-09-27T07:48:29.578741",
          "exception": false,
          "start_time": "2023-09-27T07:48:29.561211",
          "status": "completed"
        },
        "tags": [],
        "id": "743ef2b4"
      },
      "outputs": [],
      "source": [
        "# To prevent the error in the training section\n",
        "tf.config.run_functions_eagerly(True)"
      ]
    },
    {
      "cell_type": "markdown",
      "id": "00636079",
      "metadata": {
        "papermill": {
          "duration": 0.008778,
          "end_time": "2023-09-27T07:48:29.596396",
          "exception": false,
          "start_time": "2023-09-27T07:48:29.587618",
          "status": "completed"
        },
        "tags": [],
        "id": "00636079"
      },
      "source": [
        "## 2.Exploring Data"
      ]
    },
    {
      "cell_type": "code",
      "execution_count": 3,
      "id": "ad7e8292",
      "metadata": {
        "execution": {
          "iopub.execute_input": "2023-09-27T07:48:29.615883Z",
          "iopub.status.busy": "2023-09-27T07:48:29.615536Z",
          "iopub.status.idle": "2023-09-27T07:48:29.675611Z",
          "shell.execute_reply": "2023-09-27T07:48:29.674607Z"
        },
        "papermill": {
          "duration": 0.072385,
          "end_time": "2023-09-27T07:48:29.677829",
          "exception": false,
          "start_time": "2023-09-27T07:48:29.605444",
          "status": "completed"
        },
        "tags": [],
        "colab": {
          "base_uri": "https://localhost:8080/",
          "height": 206
        },
        "id": "ad7e8292",
        "outputId": "8eb5b744-a891-4528-ba14-c2115a962064"
      },
      "outputs": [
        {
          "output_type": "execute_result",
          "data": {
            "text/plain": [
              "     v1                                                 v2 Unnamed: 2  \\\n",
              "0   ham  Go until jurong point, crazy.. Available only ...        NaN   \n",
              "1   ham                      Ok lar... Joking wif u oni...        NaN   \n",
              "2  spam  Free entry in 2 a wkly comp to win FA Cup fina...        NaN   \n",
              "3   ham  U dun say so early hor... U c already then say...        NaN   \n",
              "4   ham  Nah I don't think he goes to usf, he lives aro...        NaN   \n",
              "\n",
              "  Unnamed: 3 Unnamed: 4  \n",
              "0        NaN        NaN  \n",
              "1        NaN        NaN  \n",
              "2        NaN        NaN  \n",
              "3        NaN        NaN  \n",
              "4        NaN        NaN  "
            ],
            "text/html": [
              "\n",
              "  <div id=\"df-d690394b-375b-4d30-a419-8188ab512202\" class=\"colab-df-container\">\n",
              "    <div>\n",
              "<style scoped>\n",
              "    .dataframe tbody tr th:only-of-type {\n",
              "        vertical-align: middle;\n",
              "    }\n",
              "\n",
              "    .dataframe tbody tr th {\n",
              "        vertical-align: top;\n",
              "    }\n",
              "\n",
              "    .dataframe thead th {\n",
              "        text-align: right;\n",
              "    }\n",
              "</style>\n",
              "<table border=\"1\" class=\"dataframe\">\n",
              "  <thead>\n",
              "    <tr style=\"text-align: right;\">\n",
              "      <th></th>\n",
              "      <th>v1</th>\n",
              "      <th>v2</th>\n",
              "      <th>Unnamed: 2</th>\n",
              "      <th>Unnamed: 3</th>\n",
              "      <th>Unnamed: 4</th>\n",
              "    </tr>\n",
              "  </thead>\n",
              "  <tbody>\n",
              "    <tr>\n",
              "      <th>0</th>\n",
              "      <td>ham</td>\n",
              "      <td>Go until jurong point, crazy.. Available only ...</td>\n",
              "      <td>NaN</td>\n",
              "      <td>NaN</td>\n",
              "      <td>NaN</td>\n",
              "    </tr>\n",
              "    <tr>\n",
              "      <th>1</th>\n",
              "      <td>ham</td>\n",
              "      <td>Ok lar... Joking wif u oni...</td>\n",
              "      <td>NaN</td>\n",
              "      <td>NaN</td>\n",
              "      <td>NaN</td>\n",
              "    </tr>\n",
              "    <tr>\n",
              "      <th>2</th>\n",
              "      <td>spam</td>\n",
              "      <td>Free entry in 2 a wkly comp to win FA Cup fina...</td>\n",
              "      <td>NaN</td>\n",
              "      <td>NaN</td>\n",
              "      <td>NaN</td>\n",
              "    </tr>\n",
              "    <tr>\n",
              "      <th>3</th>\n",
              "      <td>ham</td>\n",
              "      <td>U dun say so early hor... U c already then say...</td>\n",
              "      <td>NaN</td>\n",
              "      <td>NaN</td>\n",
              "      <td>NaN</td>\n",
              "    </tr>\n",
              "    <tr>\n",
              "      <th>4</th>\n",
              "      <td>ham</td>\n",
              "      <td>Nah I don't think he goes to usf, he lives aro...</td>\n",
              "      <td>NaN</td>\n",
              "      <td>NaN</td>\n",
              "      <td>NaN</td>\n",
              "    </tr>\n",
              "  </tbody>\n",
              "</table>\n",
              "</div>\n",
              "    <div class=\"colab-df-buttons\">\n",
              "\n",
              "  <div class=\"colab-df-container\">\n",
              "    <button class=\"colab-df-convert\" onclick=\"convertToInteractive('df-d690394b-375b-4d30-a419-8188ab512202')\"\n",
              "            title=\"Convert this dataframe to an interactive table.\"\n",
              "            style=\"display:none;\">\n",
              "\n",
              "  <svg xmlns=\"http://www.w3.org/2000/svg\" height=\"24px\" viewBox=\"0 -960 960 960\">\n",
              "    <path d=\"M120-120v-720h720v720H120Zm60-500h600v-160H180v160Zm220 220h160v-160H400v160Zm0 220h160v-160H400v160ZM180-400h160v-160H180v160Zm440 0h160v-160H620v160ZM180-180h160v-160H180v160Zm440 0h160v-160H620v160Z\"/>\n",
              "  </svg>\n",
              "    </button>\n",
              "\n",
              "  <style>\n",
              "    .colab-df-container {\n",
              "      display:flex;\n",
              "      gap: 12px;\n",
              "    }\n",
              "\n",
              "    .colab-df-convert {\n",
              "      background-color: #E8F0FE;\n",
              "      border: none;\n",
              "      border-radius: 50%;\n",
              "      cursor: pointer;\n",
              "      display: none;\n",
              "      fill: #1967D2;\n",
              "      height: 32px;\n",
              "      padding: 0 0 0 0;\n",
              "      width: 32px;\n",
              "    }\n",
              "\n",
              "    .colab-df-convert:hover {\n",
              "      background-color: #E2EBFA;\n",
              "      box-shadow: 0px 1px 2px rgba(60, 64, 67, 0.3), 0px 1px 3px 1px rgba(60, 64, 67, 0.15);\n",
              "      fill: #174EA6;\n",
              "    }\n",
              "\n",
              "    .colab-df-buttons div {\n",
              "      margin-bottom: 4px;\n",
              "    }\n",
              "\n",
              "    [theme=dark] .colab-df-convert {\n",
              "      background-color: #3B4455;\n",
              "      fill: #D2E3FC;\n",
              "    }\n",
              "\n",
              "    [theme=dark] .colab-df-convert:hover {\n",
              "      background-color: #434B5C;\n",
              "      box-shadow: 0px 1px 3px 1px rgba(0, 0, 0, 0.15);\n",
              "      filter: drop-shadow(0px 1px 2px rgba(0, 0, 0, 0.3));\n",
              "      fill: #FFFFFF;\n",
              "    }\n",
              "  </style>\n",
              "\n",
              "    <script>\n",
              "      const buttonEl =\n",
              "        document.querySelector('#df-d690394b-375b-4d30-a419-8188ab512202 button.colab-df-convert');\n",
              "      buttonEl.style.display =\n",
              "        google.colab.kernel.accessAllowed ? 'block' : 'none';\n",
              "\n",
              "      async function convertToInteractive(key) {\n",
              "        const element = document.querySelector('#df-d690394b-375b-4d30-a419-8188ab512202');\n",
              "        const dataTable =\n",
              "          await google.colab.kernel.invokeFunction('convertToInteractive',\n",
              "                                                    [key], {});\n",
              "        if (!dataTable) return;\n",
              "\n",
              "        const docLinkHtml = 'Like what you see? Visit the ' +\n",
              "          '<a target=\"_blank\" href=https://colab.research.google.com/notebooks/data_table.ipynb>data table notebook</a>'\n",
              "          + ' to learn more about interactive tables.';\n",
              "        element.innerHTML = '';\n",
              "        dataTable['output_type'] = 'display_data';\n",
              "        await google.colab.output.renderOutput(dataTable, element);\n",
              "        const docLink = document.createElement('div');\n",
              "        docLink.innerHTML = docLinkHtml;\n",
              "        element.appendChild(docLink);\n",
              "      }\n",
              "    </script>\n",
              "  </div>\n",
              "\n",
              "\n",
              "<div id=\"df-641599a8-3db7-4f7d-8d05-0d2daff9ce54\">\n",
              "  <button class=\"colab-df-quickchart\" onclick=\"quickchart('df-641599a8-3db7-4f7d-8d05-0d2daff9ce54')\"\n",
              "            title=\"Suggest charts.\"\n",
              "            style=\"display:none;\">\n",
              "\n",
              "<svg xmlns=\"http://www.w3.org/2000/svg\" height=\"24px\"viewBox=\"0 0 24 24\"\n",
              "     width=\"24px\">\n",
              "    <g>\n",
              "        <path d=\"M19 3H5c-1.1 0-2 .9-2 2v14c0 1.1.9 2 2 2h14c1.1 0 2-.9 2-2V5c0-1.1-.9-2-2-2zM9 17H7v-7h2v7zm4 0h-2V7h2v10zm4 0h-2v-4h2v4z\"/>\n",
              "    </g>\n",
              "</svg>\n",
              "  </button>\n",
              "\n",
              "<style>\n",
              "  .colab-df-quickchart {\n",
              "      --bg-color: #E8F0FE;\n",
              "      --fill-color: #1967D2;\n",
              "      --hover-bg-color: #E2EBFA;\n",
              "      --hover-fill-color: #174EA6;\n",
              "      --disabled-fill-color: #AAA;\n",
              "      --disabled-bg-color: #DDD;\n",
              "  }\n",
              "\n",
              "  [theme=dark] .colab-df-quickchart {\n",
              "      --bg-color: #3B4455;\n",
              "      --fill-color: #D2E3FC;\n",
              "      --hover-bg-color: #434B5C;\n",
              "      --hover-fill-color: #FFFFFF;\n",
              "      --disabled-bg-color: #3B4455;\n",
              "      --disabled-fill-color: #666;\n",
              "  }\n",
              "\n",
              "  .colab-df-quickchart {\n",
              "    background-color: var(--bg-color);\n",
              "    border: none;\n",
              "    border-radius: 50%;\n",
              "    cursor: pointer;\n",
              "    display: none;\n",
              "    fill: var(--fill-color);\n",
              "    height: 32px;\n",
              "    padding: 0;\n",
              "    width: 32px;\n",
              "  }\n",
              "\n",
              "  .colab-df-quickchart:hover {\n",
              "    background-color: var(--hover-bg-color);\n",
              "    box-shadow: 0 1px 2px rgba(60, 64, 67, 0.3), 0 1px 3px 1px rgba(60, 64, 67, 0.15);\n",
              "    fill: var(--button-hover-fill-color);\n",
              "  }\n",
              "\n",
              "  .colab-df-quickchart-complete:disabled,\n",
              "  .colab-df-quickchart-complete:disabled:hover {\n",
              "    background-color: var(--disabled-bg-color);\n",
              "    fill: var(--disabled-fill-color);\n",
              "    box-shadow: none;\n",
              "  }\n",
              "\n",
              "  .colab-df-spinner {\n",
              "    border: 2px solid var(--fill-color);\n",
              "    border-color: transparent;\n",
              "    border-bottom-color: var(--fill-color);\n",
              "    animation:\n",
              "      spin 1s steps(1) infinite;\n",
              "  }\n",
              "\n",
              "  @keyframes spin {\n",
              "    0% {\n",
              "      border-color: transparent;\n",
              "      border-bottom-color: var(--fill-color);\n",
              "      border-left-color: var(--fill-color);\n",
              "    }\n",
              "    20% {\n",
              "      border-color: transparent;\n",
              "      border-left-color: var(--fill-color);\n",
              "      border-top-color: var(--fill-color);\n",
              "    }\n",
              "    30% {\n",
              "      border-color: transparent;\n",
              "      border-left-color: var(--fill-color);\n",
              "      border-top-color: var(--fill-color);\n",
              "      border-right-color: var(--fill-color);\n",
              "    }\n",
              "    40% {\n",
              "      border-color: transparent;\n",
              "      border-right-color: var(--fill-color);\n",
              "      border-top-color: var(--fill-color);\n",
              "    }\n",
              "    60% {\n",
              "      border-color: transparent;\n",
              "      border-right-color: var(--fill-color);\n",
              "    }\n",
              "    80% {\n",
              "      border-color: transparent;\n",
              "      border-right-color: var(--fill-color);\n",
              "      border-bottom-color: var(--fill-color);\n",
              "    }\n",
              "    90% {\n",
              "      border-color: transparent;\n",
              "      border-bottom-color: var(--fill-color);\n",
              "    }\n",
              "  }\n",
              "</style>\n",
              "\n",
              "  <script>\n",
              "    async function quickchart(key) {\n",
              "      const quickchartButtonEl =\n",
              "        document.querySelector('#' + key + ' button');\n",
              "      quickchartButtonEl.disabled = true;  // To prevent multiple clicks.\n",
              "      quickchartButtonEl.classList.add('colab-df-spinner');\n",
              "      try {\n",
              "        const charts = await google.colab.kernel.invokeFunction(\n",
              "            'suggestCharts', [key], {});\n",
              "      } catch (error) {\n",
              "        console.error('Error during call to suggestCharts:', error);\n",
              "      }\n",
              "      quickchartButtonEl.classList.remove('colab-df-spinner');\n",
              "      quickchartButtonEl.classList.add('colab-df-quickchart-complete');\n",
              "    }\n",
              "    (() => {\n",
              "      let quickchartButtonEl =\n",
              "        document.querySelector('#df-641599a8-3db7-4f7d-8d05-0d2daff9ce54 button');\n",
              "      quickchartButtonEl.style.display =\n",
              "        google.colab.kernel.accessAllowed ? 'block' : 'none';\n",
              "    })();\n",
              "  </script>\n",
              "</div>\n",
              "    </div>\n",
              "  </div>\n"
            ]
          },
          "metadata": {},
          "execution_count": 3
        }
      ],
      "source": [
        "# Reading the dataset\n",
        "df = pd.read_csv('/content/spam.csv', encoding='ISO-8859-1')\n",
        "\n",
        "df.head()"
      ]
    },
    {
      "cell_type": "code",
      "execution_count": 5,
      "id": "40354089",
      "metadata": {
        "execution": {
          "iopub.execute_input": "2023-09-27T07:48:29.727008Z",
          "iopub.status.busy": "2023-09-27T07:48:29.725983Z",
          "iopub.status.idle": "2023-09-27T07:48:29.737030Z",
          "shell.execute_reply": "2023-09-27T07:48:29.736040Z"
        },
        "papermill": {
          "duration": 0.023217,
          "end_time": "2023-09-27T07:48:29.739150",
          "exception": false,
          "start_time": "2023-09-27T07:48:29.715933",
          "status": "completed"
        },
        "tags": [],
        "colab": {
          "base_uri": "https://localhost:8080/"
        },
        "id": "40354089",
        "outputId": "a3457b7e-5972-4763-b3cf-7205df87338c"
      },
      "outputs": [
        {
          "output_type": "execute_result",
          "data": {
            "text/plain": [
              "v1               0\n",
              "v2               0\n",
              "Unnamed: 2    5522\n",
              "Unnamed: 3    5560\n",
              "Unnamed: 4    5566\n",
              "dtype: int64"
            ]
          },
          "metadata": {},
          "execution_count": 5
        }
      ],
      "source": [
        "# Check for null values\n",
        "df.isna().sum()"
      ]
    },
    {
      "cell_type": "code",
      "execution_count": 4,
      "id": "de3dad00",
      "metadata": {
        "execution": {
          "iopub.execute_input": "2023-09-27T07:48:29.699336Z",
          "iopub.status.busy": "2023-09-27T07:48:29.698377Z",
          "iopub.status.idle": "2023-09-27T07:48:29.704802Z",
          "shell.execute_reply": "2023-09-27T07:48:29.703834Z"
        },
        "papermill": {
          "duration": 0.018757,
          "end_time": "2023-09-27T07:48:29.706955",
          "exception": false,
          "start_time": "2023-09-27T07:48:29.688198",
          "status": "completed"
        },
        "tags": [],
        "colab": {
          "base_uri": "https://localhost:8080/"
        },
        "id": "de3dad00",
        "outputId": "8aae4981-d6e2-4507-b025-1930ae0ffdfd"
      },
      "outputs": [
        {
          "output_type": "execute_result",
          "data": {
            "text/plain": [
              "5572"
            ]
          },
          "metadata": {},
          "execution_count": 4
        }
      ],
      "source": [
        "len(df)"
      ]
    },
    {
      "cell_type": "code",
      "execution_count": 6,
      "id": "1400762d",
      "metadata": {
        "execution": {
          "iopub.execute_input": "2023-09-27T07:48:29.760376Z",
          "iopub.status.busy": "2023-09-27T07:48:29.758935Z",
          "iopub.status.idle": "2023-09-27T07:48:29.774731Z",
          "shell.execute_reply": "2023-09-27T07:48:29.773676Z"
        },
        "papermill": {
          "duration": 0.028054,
          "end_time": "2023-09-27T07:48:29.776992",
          "exception": false,
          "start_time": "2023-09-27T07:48:29.748938",
          "status": "completed"
        },
        "tags": [],
        "colab": {
          "base_uri": "https://localhost:8080/",
          "height": 206
        },
        "id": "1400762d",
        "outputId": "aeb898e4-76a3-43ae-9b71-67e707baaac3"
      },
      "outputs": [
        {
          "output_type": "execute_result",
          "data": {
            "text/plain": [
              "     v1                                                 v2\n",
              "0   ham  Go until jurong point, crazy.. Available only ...\n",
              "1   ham                      Ok lar... Joking wif u oni...\n",
              "2  spam  Free entry in 2 a wkly comp to win FA Cup fina...\n",
              "3   ham  U dun say so early hor... U c already then say...\n",
              "4   ham  Nah I don't think he goes to usf, he lives aro..."
            ],
            "text/html": [
              "\n",
              "  <div id=\"df-07ae1a3e-5456-4102-80d8-74e72b27c246\" class=\"colab-df-container\">\n",
              "    <div>\n",
              "<style scoped>\n",
              "    .dataframe tbody tr th:only-of-type {\n",
              "        vertical-align: middle;\n",
              "    }\n",
              "\n",
              "    .dataframe tbody tr th {\n",
              "        vertical-align: top;\n",
              "    }\n",
              "\n",
              "    .dataframe thead th {\n",
              "        text-align: right;\n",
              "    }\n",
              "</style>\n",
              "<table border=\"1\" class=\"dataframe\">\n",
              "  <thead>\n",
              "    <tr style=\"text-align: right;\">\n",
              "      <th></th>\n",
              "      <th>v1</th>\n",
              "      <th>v2</th>\n",
              "    </tr>\n",
              "  </thead>\n",
              "  <tbody>\n",
              "    <tr>\n",
              "      <th>0</th>\n",
              "      <td>ham</td>\n",
              "      <td>Go until jurong point, crazy.. Available only ...</td>\n",
              "    </tr>\n",
              "    <tr>\n",
              "      <th>1</th>\n",
              "      <td>ham</td>\n",
              "      <td>Ok lar... Joking wif u oni...</td>\n",
              "    </tr>\n",
              "    <tr>\n",
              "      <th>2</th>\n",
              "      <td>spam</td>\n",
              "      <td>Free entry in 2 a wkly comp to win FA Cup fina...</td>\n",
              "    </tr>\n",
              "    <tr>\n",
              "      <th>3</th>\n",
              "      <td>ham</td>\n",
              "      <td>U dun say so early hor... U c already then say...</td>\n",
              "    </tr>\n",
              "    <tr>\n",
              "      <th>4</th>\n",
              "      <td>ham</td>\n",
              "      <td>Nah I don't think he goes to usf, he lives aro...</td>\n",
              "    </tr>\n",
              "  </tbody>\n",
              "</table>\n",
              "</div>\n",
              "    <div class=\"colab-df-buttons\">\n",
              "\n",
              "  <div class=\"colab-df-container\">\n",
              "    <button class=\"colab-df-convert\" onclick=\"convertToInteractive('df-07ae1a3e-5456-4102-80d8-74e72b27c246')\"\n",
              "            title=\"Convert this dataframe to an interactive table.\"\n",
              "            style=\"display:none;\">\n",
              "\n",
              "  <svg xmlns=\"http://www.w3.org/2000/svg\" height=\"24px\" viewBox=\"0 -960 960 960\">\n",
              "    <path d=\"M120-120v-720h720v720H120Zm60-500h600v-160H180v160Zm220 220h160v-160H400v160Zm0 220h160v-160H400v160ZM180-400h160v-160H180v160Zm440 0h160v-160H620v160ZM180-180h160v-160H180v160Zm440 0h160v-160H620v160Z\"/>\n",
              "  </svg>\n",
              "    </button>\n",
              "\n",
              "  <style>\n",
              "    .colab-df-container {\n",
              "      display:flex;\n",
              "      gap: 12px;\n",
              "    }\n",
              "\n",
              "    .colab-df-convert {\n",
              "      background-color: #E8F0FE;\n",
              "      border: none;\n",
              "      border-radius: 50%;\n",
              "      cursor: pointer;\n",
              "      display: none;\n",
              "      fill: #1967D2;\n",
              "      height: 32px;\n",
              "      padding: 0 0 0 0;\n",
              "      width: 32px;\n",
              "    }\n",
              "\n",
              "    .colab-df-convert:hover {\n",
              "      background-color: #E2EBFA;\n",
              "      box-shadow: 0px 1px 2px rgba(60, 64, 67, 0.3), 0px 1px 3px 1px rgba(60, 64, 67, 0.15);\n",
              "      fill: #174EA6;\n",
              "    }\n",
              "\n",
              "    .colab-df-buttons div {\n",
              "      margin-bottom: 4px;\n",
              "    }\n",
              "\n",
              "    [theme=dark] .colab-df-convert {\n",
              "      background-color: #3B4455;\n",
              "      fill: #D2E3FC;\n",
              "    }\n",
              "\n",
              "    [theme=dark] .colab-df-convert:hover {\n",
              "      background-color: #434B5C;\n",
              "      box-shadow: 0px 1px 3px 1px rgba(0, 0, 0, 0.15);\n",
              "      filter: drop-shadow(0px 1px 2px rgba(0, 0, 0, 0.3));\n",
              "      fill: #FFFFFF;\n",
              "    }\n",
              "  </style>\n",
              "\n",
              "    <script>\n",
              "      const buttonEl =\n",
              "        document.querySelector('#df-07ae1a3e-5456-4102-80d8-74e72b27c246 button.colab-df-convert');\n",
              "      buttonEl.style.display =\n",
              "        google.colab.kernel.accessAllowed ? 'block' : 'none';\n",
              "\n",
              "      async function convertToInteractive(key) {\n",
              "        const element = document.querySelector('#df-07ae1a3e-5456-4102-80d8-74e72b27c246');\n",
              "        const dataTable =\n",
              "          await google.colab.kernel.invokeFunction('convertToInteractive',\n",
              "                                                    [key], {});\n",
              "        if (!dataTable) return;\n",
              "\n",
              "        const docLinkHtml = 'Like what you see? Visit the ' +\n",
              "          '<a target=\"_blank\" href=https://colab.research.google.com/notebooks/data_table.ipynb>data table notebook</a>'\n",
              "          + ' to learn more about interactive tables.';\n",
              "        element.innerHTML = '';\n",
              "        dataTable['output_type'] = 'display_data';\n",
              "        await google.colab.output.renderOutput(dataTable, element);\n",
              "        const docLink = document.createElement('div');\n",
              "        docLink.innerHTML = docLinkHtml;\n",
              "        element.appendChild(docLink);\n",
              "      }\n",
              "    </script>\n",
              "  </div>\n",
              "\n",
              "\n",
              "<div id=\"df-39920dbc-ea70-4f4e-b22a-d4641a653f6a\">\n",
              "  <button class=\"colab-df-quickchart\" onclick=\"quickchart('df-39920dbc-ea70-4f4e-b22a-d4641a653f6a')\"\n",
              "            title=\"Suggest charts.\"\n",
              "            style=\"display:none;\">\n",
              "\n",
              "<svg xmlns=\"http://www.w3.org/2000/svg\" height=\"24px\"viewBox=\"0 0 24 24\"\n",
              "     width=\"24px\">\n",
              "    <g>\n",
              "        <path d=\"M19 3H5c-1.1 0-2 .9-2 2v14c0 1.1.9 2 2 2h14c1.1 0 2-.9 2-2V5c0-1.1-.9-2-2-2zM9 17H7v-7h2v7zm4 0h-2V7h2v10zm4 0h-2v-4h2v4z\"/>\n",
              "    </g>\n",
              "</svg>\n",
              "  </button>\n",
              "\n",
              "<style>\n",
              "  .colab-df-quickchart {\n",
              "      --bg-color: #E8F0FE;\n",
              "      --fill-color: #1967D2;\n",
              "      --hover-bg-color: #E2EBFA;\n",
              "      --hover-fill-color: #174EA6;\n",
              "      --disabled-fill-color: #AAA;\n",
              "      --disabled-bg-color: #DDD;\n",
              "  }\n",
              "\n",
              "  [theme=dark] .colab-df-quickchart {\n",
              "      --bg-color: #3B4455;\n",
              "      --fill-color: #D2E3FC;\n",
              "      --hover-bg-color: #434B5C;\n",
              "      --hover-fill-color: #FFFFFF;\n",
              "      --disabled-bg-color: #3B4455;\n",
              "      --disabled-fill-color: #666;\n",
              "  }\n",
              "\n",
              "  .colab-df-quickchart {\n",
              "    background-color: var(--bg-color);\n",
              "    border: none;\n",
              "    border-radius: 50%;\n",
              "    cursor: pointer;\n",
              "    display: none;\n",
              "    fill: var(--fill-color);\n",
              "    height: 32px;\n",
              "    padding: 0;\n",
              "    width: 32px;\n",
              "  }\n",
              "\n",
              "  .colab-df-quickchart:hover {\n",
              "    background-color: var(--hover-bg-color);\n",
              "    box-shadow: 0 1px 2px rgba(60, 64, 67, 0.3), 0 1px 3px 1px rgba(60, 64, 67, 0.15);\n",
              "    fill: var(--button-hover-fill-color);\n",
              "  }\n",
              "\n",
              "  .colab-df-quickchart-complete:disabled,\n",
              "  .colab-df-quickchart-complete:disabled:hover {\n",
              "    background-color: var(--disabled-bg-color);\n",
              "    fill: var(--disabled-fill-color);\n",
              "    box-shadow: none;\n",
              "  }\n",
              "\n",
              "  .colab-df-spinner {\n",
              "    border: 2px solid var(--fill-color);\n",
              "    border-color: transparent;\n",
              "    border-bottom-color: var(--fill-color);\n",
              "    animation:\n",
              "      spin 1s steps(1) infinite;\n",
              "  }\n",
              "\n",
              "  @keyframes spin {\n",
              "    0% {\n",
              "      border-color: transparent;\n",
              "      border-bottom-color: var(--fill-color);\n",
              "      border-left-color: var(--fill-color);\n",
              "    }\n",
              "    20% {\n",
              "      border-color: transparent;\n",
              "      border-left-color: var(--fill-color);\n",
              "      border-top-color: var(--fill-color);\n",
              "    }\n",
              "    30% {\n",
              "      border-color: transparent;\n",
              "      border-left-color: var(--fill-color);\n",
              "      border-top-color: var(--fill-color);\n",
              "      border-right-color: var(--fill-color);\n",
              "    }\n",
              "    40% {\n",
              "      border-color: transparent;\n",
              "      border-right-color: var(--fill-color);\n",
              "      border-top-color: var(--fill-color);\n",
              "    }\n",
              "    60% {\n",
              "      border-color: transparent;\n",
              "      border-right-color: var(--fill-color);\n",
              "    }\n",
              "    80% {\n",
              "      border-color: transparent;\n",
              "      border-right-color: var(--fill-color);\n",
              "      border-bottom-color: var(--fill-color);\n",
              "    }\n",
              "    90% {\n",
              "      border-color: transparent;\n",
              "      border-bottom-color: var(--fill-color);\n",
              "    }\n",
              "  }\n",
              "</style>\n",
              "\n",
              "  <script>\n",
              "    async function quickchart(key) {\n",
              "      const quickchartButtonEl =\n",
              "        document.querySelector('#' + key + ' button');\n",
              "      quickchartButtonEl.disabled = true;  // To prevent multiple clicks.\n",
              "      quickchartButtonEl.classList.add('colab-df-spinner');\n",
              "      try {\n",
              "        const charts = await google.colab.kernel.invokeFunction(\n",
              "            'suggestCharts', [key], {});\n",
              "      } catch (error) {\n",
              "        console.error('Error during call to suggestCharts:', error);\n",
              "      }\n",
              "      quickchartButtonEl.classList.remove('colab-df-spinner');\n",
              "      quickchartButtonEl.classList.add('colab-df-quickchart-complete');\n",
              "    }\n",
              "    (() => {\n",
              "      let quickchartButtonEl =\n",
              "        document.querySelector('#df-39920dbc-ea70-4f4e-b22a-d4641a653f6a button');\n",
              "      quickchartButtonEl.style.display =\n",
              "        google.colab.kernel.accessAllowed ? 'block' : 'none';\n",
              "    })();\n",
              "  </script>\n",
              "</div>\n",
              "    </div>\n",
              "  </div>\n"
            ]
          },
          "metadata": {},
          "execution_count": 6
        }
      ],
      "source": [
        "# Dropping unnamed columns\n",
        "df = df[['v1', 'v2']]\n",
        "\n",
        "df.head()"
      ]
    },
    {
      "cell_type": "code",
      "source": [
        "\n",
        "mask = df['v2'].str.isspace()\n",
        "\n",
        "\n",
        "if mask.any():\n",
        "    print(f'There are {mask.sum()} empty space strings in the dataset')\n",
        "\n",
        "\n",
        "    df = df[~mask]\n"
      ],
      "metadata": {
        "id": "5kA5wMGA9yRL"
      },
      "id": "5kA5wMGA9yRL",
      "execution_count": 7,
      "outputs": []
    },
    {
      "cell_type": "code",
      "execution_count": 8,
      "id": "7fd80123",
      "metadata": {
        "execution": {
          "iopub.execute_input": "2023-09-27T07:48:29.838240Z",
          "iopub.status.busy": "2023-09-27T07:48:29.836810Z",
          "iopub.status.idle": "2023-09-27T07:48:29.850616Z",
          "shell.execute_reply": "2023-09-27T07:48:29.849686Z"
        },
        "papermill": {
          "duration": 0.026245,
          "end_time": "2023-09-27T07:48:29.852571",
          "exception": false,
          "start_time": "2023-09-27T07:48:29.826326",
          "status": "completed"
        },
        "tags": [],
        "colab": {
          "base_uri": "https://localhost:8080/"
        },
        "id": "7fd80123",
        "outputId": "7116d726-3dca-4b2d-c9a0-86f70e60cf02"
      },
      "outputs": [
        {
          "output_type": "execute_result",
          "data": {
            "text/plain": [
              "v1       2\n",
              "v2    5169\n",
              "dtype: int64"
            ]
          },
          "metadata": {},
          "execution_count": 8
        }
      ],
      "source": [
        "# Check for number of unique values\n",
        "df.nunique()"
      ]
    },
    {
      "cell_type": "code",
      "execution_count": 9,
      "id": "f1846589",
      "metadata": {
        "execution": {
          "iopub.execute_input": "2023-09-27T07:48:29.874239Z",
          "iopub.status.busy": "2023-09-27T07:48:29.872782Z",
          "iopub.status.idle": "2023-09-27T07:48:29.883664Z",
          "shell.execute_reply": "2023-09-27T07:48:29.882753Z"
        },
        "papermill": {
          "duration": 0.023413,
          "end_time": "2023-09-27T07:48:29.885588",
          "exception": false,
          "start_time": "2023-09-27T07:48:29.862175",
          "status": "completed"
        },
        "tags": [],
        "colab": {
          "base_uri": "https://localhost:8080/"
        },
        "id": "f1846589",
        "outputId": "137fe06b-9181-4a3c-8d0e-d690a6094f40"
      },
      "outputs": [
        {
          "output_type": "execute_result",
          "data": {
            "text/plain": [
              "ham     4825\n",
              "spam     747\n",
              "Name: v1, dtype: int64"
            ]
          },
          "metadata": {},
          "execution_count": 9
        }
      ],
      "source": [
        "# Checking for balancement\n",
        "df['v1'].value_counts()"
      ]
    },
    {
      "cell_type": "code",
      "execution_count": 10,
      "id": "93e0f651",
      "metadata": {
        "execution": {
          "iopub.execute_input": "2023-09-27T07:48:29.906733Z",
          "iopub.status.busy": "2023-09-27T07:48:29.905800Z",
          "iopub.status.idle": "2023-09-27T07:48:29.915731Z",
          "shell.execute_reply": "2023-09-27T07:48:29.914542Z"
        },
        "papermill": {
          "duration": 0.022883,
          "end_time": "2023-09-27T07:48:29.918160",
          "exception": false,
          "start_time": "2023-09-27T07:48:29.895277",
          "status": "completed"
        },
        "tags": [],
        "colab": {
          "base_uri": "https://localhost:8080/"
        },
        "id": "93e0f651",
        "outputId": "1b26c980-000b-468b-83ed-2507e4fc713d"
      },
      "outputs": [
        {
          "output_type": "stream",
          "name": "stdout",
          "text": [
            "Max sequence length: 910\n"
          ]
        }
      ],
      "source": [
        "# Get the max length of sequences\n",
        "max_seq_length = df['v2'].str.len().max()\n",
        "\n",
        "print(\"Max sequence length:\", max_seq_length)"
      ]
    },
    {
      "cell_type": "code",
      "execution_count": 11,
      "id": "37111968",
      "metadata": {
        "execution": {
          "iopub.execute_input": "2023-09-27T07:48:29.939505Z",
          "iopub.status.busy": "2023-09-27T07:48:29.939204Z",
          "iopub.status.idle": "2023-09-27T07:48:29.970078Z",
          "shell.execute_reply": "2023-09-27T07:48:29.968970Z"
        },
        "papermill": {
          "duration": 0.043578,
          "end_time": "2023-09-27T07:48:29.972110",
          "exception": false,
          "start_time": "2023-09-27T07:48:29.928532",
          "status": "completed"
        },
        "tags": [],
        "colab": {
          "base_uri": "https://localhost:8080/"
        },
        "id": "37111968",
        "outputId": "44ce2180-0d83-41fa-c8b5-c79082b1d857"
      },
      "outputs": [
        {
          "output_type": "stream",
          "name": "stdout",
          "text": [
            "Unique words: 8404\n"
          ]
        }
      ],
      "source": [
        "from sklearn.feature_extraction.text import CountVectorizer\n",
        "\n",
        "vectorizer = CountVectorizer(lowercase=True, stop_words='english')\n",
        "\n",
        "X = vectorizer.fit_transform(df['v2'])\n",
        "\n",
        "n_unique_words = len(vectorizer.get_feature_names_out())\n",
        "\n",
        "print(\"Unique words:\", n_unique_words)\n"
      ]
    },
    {
      "cell_type": "markdown",
      "id": "647a5cb6",
      "metadata": {
        "papermill": {
          "duration": 0.009658,
          "end_time": "2023-09-27T07:48:29.991741",
          "exception": false,
          "start_time": "2023-09-27T07:48:29.982083",
          "status": "completed"
        },
        "tags": [],
        "id": "647a5cb6"
      },
      "source": [
        "## 3.Preprocessing"
      ]
    },
    {
      "cell_type": "code",
      "execution_count": 12,
      "id": "dc1767de",
      "metadata": {
        "execution": {
          "iopub.execute_input": "2023-09-27T07:48:30.013747Z",
          "iopub.status.busy": "2023-09-27T07:48:30.013202Z",
          "iopub.status.idle": "2023-09-27T07:48:30.024610Z",
          "shell.execute_reply": "2023-09-27T07:48:30.023758Z"
        },
        "papermill": {
          "duration": 0.025332,
          "end_time": "2023-09-27T07:48:30.026637",
          "exception": false,
          "start_time": "2023-09-27T07:48:30.001305",
          "status": "completed"
        },
        "tags": [],
        "colab": {
          "base_uri": "https://localhost:8080/",
          "height": 433
        },
        "id": "dc1767de",
        "outputId": "81d235b5-d948-4a15-a258-29a8bf0393a7"
      },
      "outputs": [
        {
          "output_type": "display_data",
          "data": {
            "text/plain": [
              "0       Go until jurong point, crazy.. Available only ...\n",
              "1                           Ok lar... Joking wif u oni...\n",
              "2       Free entry in 2 a wkly comp to win FA Cup fina...\n",
              "3       U dun say so early hor... U c already then say...\n",
              "4       Nah I don't think he goes to usf, he lives aro...\n",
              "                              ...                        \n",
              "5567    This is the 2nd time we have tried 2 contact u...\n",
              "5568                Will Ì_ b going to esplanade fr home?\n",
              "5569    Pity, * was in mood for that. So...any other s...\n",
              "5570    The guy did some bitching but I acted like i'd...\n",
              "5571                           Rofl. Its true to its name\n",
              "Name: v2, Length: 5572, dtype: object"
            ]
          },
          "metadata": {}
        },
        {
          "output_type": "display_data",
          "data": {
            "text/plain": [
              "0        ham\n",
              "1        ham\n",
              "2       spam\n",
              "3        ham\n",
              "4        ham\n",
              "        ... \n",
              "5567    spam\n",
              "5568     ham\n",
              "5569     ham\n",
              "5570     ham\n",
              "5571     ham\n",
              "Name: v1, Length: 5572, dtype: object"
            ]
          },
          "metadata": {}
        }
      ],
      "source": [
        "# Separating X and y\n",
        "X = df['v2']\n",
        "y = df['v1']\n",
        "\n",
        "display(X, y)"
      ]
    },
    {
      "cell_type": "code",
      "execution_count": 13,
      "id": "fced57db",
      "metadata": {
        "execution": {
          "iopub.execute_input": "2023-09-27T07:48:30.048091Z",
          "iopub.status.busy": "2023-09-27T07:48:30.047748Z",
          "iopub.status.idle": "2023-09-27T07:48:30.840914Z",
          "shell.execute_reply": "2023-09-27T07:48:30.839780Z"
        },
        "papermill": {
          "duration": 0.807348,
          "end_time": "2023-09-27T07:48:30.844065",
          "exception": false,
          "start_time": "2023-09-27T07:48:30.036717",
          "status": "completed"
        },
        "tags": [],
        "colab": {
          "base_uri": "https://localhost:8080/",
          "height": 34
        },
        "id": "fced57db",
        "outputId": "1dd3ae6a-4e4f-4d25-fce5-ca1ca3d43b54"
      },
      "outputs": [
        {
          "output_type": "display_data",
          "data": {
            "text/plain": [
              "array([0, 0, 1, ..., 0, 0, 0])"
            ]
          },
          "metadata": {}
        }
      ],
      "source": [
        "# Encoding the Labels\n",
        "from sklearn.preprocessing import LabelEncoder\n",
        "\n",
        "le = LabelEncoder()\n",
        "y = le.fit_transform(y)\n",
        "\n",
        "display(y)"
      ]
    },
    {
      "cell_type": "code",
      "execution_count": 14,
      "id": "55714384",
      "metadata": {
        "execution": {
          "iopub.execute_input": "2023-09-27T07:48:30.880194Z",
          "iopub.status.busy": "2023-09-27T07:48:30.879792Z",
          "iopub.status.idle": "2023-09-27T07:48:30.884643Z",
          "shell.execute_reply": "2023-09-27T07:48:30.883727Z"
        },
        "papermill": {
          "duration": 0.028514,
          "end_time": "2023-09-27T07:48:30.889797",
          "exception": false,
          "start_time": "2023-09-27T07:48:30.861283",
          "status": "completed"
        },
        "tags": [],
        "id": "55714384"
      },
      "outputs": [],
      "source": [
        "# Preparing the data\n",
        "max_len = 150\n",
        "num_words = 1000"
      ]
    },
    {
      "cell_type": "code",
      "execution_count": 15,
      "id": "af42d3fb",
      "metadata": {
        "execution": {
          "iopub.execute_input": "2023-09-27T07:48:30.926284Z",
          "iopub.status.busy": "2023-09-27T07:48:30.925786Z",
          "iopub.status.idle": "2023-09-27T07:48:31.167349Z",
          "shell.execute_reply": "2023-09-27T07:48:31.166196Z"
        },
        "papermill": {
          "duration": 0.263942,
          "end_time": "2023-09-27T07:48:31.170684",
          "exception": false,
          "start_time": "2023-09-27T07:48:30.906742",
          "status": "completed"
        },
        "tags": [],
        "id": "af42d3fb"
      },
      "outputs": [],
      "source": [
        "# Tokenizing\n",
        "tok = Tokenizer(num_words=num_words)\n",
        "tok.fit_on_texts(df['v2'])"
      ]
    },
    {
      "cell_type": "code",
      "execution_count": 16,
      "id": "edce665c",
      "metadata": {
        "execution": {
          "iopub.execute_input": "2023-09-27T07:48:31.206683Z",
          "iopub.status.busy": "2023-09-27T07:48:31.206251Z",
          "iopub.status.idle": "2023-09-27T07:48:31.310894Z",
          "shell.execute_reply": "2023-09-27T07:48:31.309839Z"
        },
        "papermill": {
          "duration": 0.126003,
          "end_time": "2023-09-27T07:48:31.314337",
          "exception": false,
          "start_time": "2023-09-27T07:48:31.188334",
          "status": "completed"
        },
        "tags": [],
        "id": "edce665c"
      },
      "outputs": [],
      "source": [
        "# Train and Test Split\n",
        "from sklearn.model_selection import train_test_split\n",
        "\n",
        "X_train, X_test, y_train, y_test = train_test_split(X, y, test_size=0.3, random_state=101)"
      ]
    },
    {
      "cell_type": "code",
      "execution_count": 17,
      "id": "0d6010c9",
      "metadata": {
        "execution": {
          "iopub.execute_input": "2023-09-27T07:48:31.353802Z",
          "iopub.status.busy": "2023-09-27T07:48:31.353280Z",
          "iopub.status.idle": "2023-09-27T07:48:31.551895Z",
          "shell.execute_reply": "2023-09-27T07:48:31.550268Z"
        },
        "papermill": {
          "duration": 0.22181,
          "end_time": "2023-09-27T07:48:31.555209",
          "exception": false,
          "start_time": "2023-09-27T07:48:31.333399",
          "status": "completed"
        },
        "tags": [],
        "id": "0d6010c9"
      },
      "outputs": [],
      "source": [
        "X_train_mat = tok.texts_to_sequences(X_train)\n",
        "X_test_mat = tok.texts_to_sequences(X_test)"
      ]
    },
    {
      "cell_type": "code",
      "execution_count": 18,
      "id": "2345dfce",
      "metadata": {
        "execution": {
          "iopub.execute_input": "2023-09-27T07:48:31.588856Z",
          "iopub.status.busy": "2023-09-27T07:48:31.588471Z",
          "iopub.status.idle": "2023-09-27T07:48:31.640443Z",
          "shell.execute_reply": "2023-09-27T07:48:31.639392Z"
        },
        "papermill": {
          "duration": 0.070768,
          "end_time": "2023-09-27T07:48:31.642883",
          "exception": false,
          "start_time": "2023-09-27T07:48:31.572115",
          "status": "completed"
        },
        "tags": [],
        "id": "2345dfce"
      },
      "outputs": [],
      "source": [
        "# Pad sequences to the same length\n",
        "X_train_padded = pad_sequences(X_train_mat, maxlen=max_len)\n",
        "X_test_padded = pad_sequences(X_test_mat, maxlen=max_len)"
      ]
    },
    {
      "cell_type": "code",
      "execution_count": 19,
      "id": "36b2d5d0",
      "metadata": {
        "execution": {
          "iopub.execute_input": "2023-09-27T07:48:31.665972Z",
          "iopub.status.busy": "2023-09-27T07:48:31.665606Z",
          "iopub.status.idle": "2023-09-27T07:48:31.672223Z",
          "shell.execute_reply": "2023-09-27T07:48:31.671066Z"
        },
        "papermill": {
          "duration": 0.02133,
          "end_time": "2023-09-27T07:48:31.675053",
          "exception": false,
          "start_time": "2023-09-27T07:48:31.653723",
          "status": "completed"
        },
        "tags": [],
        "id": "36b2d5d0"
      },
      "outputs": [],
      "source": [
        "y_train = y_train.reshape((-1,1))\n",
        "y_test = y_test.reshape((-1,1))"
      ]
    },
    {
      "cell_type": "markdown",
      "id": "8ad41699",
      "metadata": {
        "papermill": {
          "duration": 0.010864,
          "end_time": "2023-09-27T07:48:31.697175",
          "exception": false,
          "start_time": "2023-09-27T07:48:31.686311",
          "status": "completed"
        },
        "tags": [],
        "id": "8ad41699"
      },
      "source": [
        "## 4.Modeling"
      ]
    },
    {
      "cell_type": "code",
      "execution_count": 20,
      "id": "469619f7",
      "metadata": {
        "execution": {
          "iopub.execute_input": "2023-09-27T07:48:31.721599Z",
          "iopub.status.busy": "2023-09-27T07:48:31.720646Z",
          "iopub.status.idle": "2023-09-27T07:48:31.730765Z",
          "shell.execute_reply": "2023-09-27T07:48:31.729624Z"
        },
        "papermill": {
          "duration": 0.025029,
          "end_time": "2023-09-27T07:48:31.733248",
          "exception": false,
          "start_time": "2023-09-27T07:48:31.708219",
          "status": "completed"
        },
        "tags": [],
        "id": "469619f7"
      },
      "outputs": [],
      "source": [
        "\n",
        "\n",
        "def create_rnn_model(num_words, max_len, units, dropout_rate):\n",
        "    model = Sequential()\n",
        "    model.add(Embedding(num_words, 100, input_length=max_len))\n",
        "    model.add(SimpleRNN(units, activation='relu', return_sequences=True))\n",
        "    model.add(Dropout(dropout_rate))\n",
        "    model.add(SimpleRNN(units, activation='relu'))\n",
        "    model.add(Dropout(dropout_rate))\n",
        "    model.add(Dense(1, activation='sigmoid'))\n",
        "    return model\n",
        "\n",
        "def create_lstm_model(num_words, max_len, units, dropout_rate):\n",
        "    model = Sequential()\n",
        "    model.add(Embedding(num_words, 100, input_length=max_len))\n",
        "    model.add(LSTM(units, activation='relu', return_sequences=True))\n",
        "    model.add(Dropout(dropout_rate))\n",
        "    model.add(LSTM(units, activation='relu'))\n",
        "    model.add(Dropout(dropout_rate))\n",
        "    model.add(Dense(1, activation='sigmoid'))\n",
        "    return model\n",
        "\n",
        "def create_gru_model(num_words, max_len, units, dropout_rate):\n",
        "    model = Sequential()\n",
        "    model.add(Embedding(num_words, 100, input_length=max_len))\n",
        "    model.add(GRU(units, activation='relu', return_sequences=True))\n",
        "    model.add(Dropout(dropout_rate))\n",
        "    model.add(GRU(units, activation='relu'))\n",
        "    model.add(Dropout(dropout_rate))\n",
        "    model.add(Dense(1, activation='sigmoid'))\n",
        "    return model\n"
      ]
    },
    {
      "cell_type": "markdown",
      "id": "f1f16461",
      "metadata": {
        "papermill": {
          "duration": 0.056367,
          "end_time": "2023-09-27T07:48:31.830700",
          "exception": false,
          "start_time": "2023-09-27T07:48:31.774333",
          "status": "completed"
        },
        "tags": [],
        "id": "f1f16461"
      },
      "source": [
        "## 5.Compiling"
      ]
    },
    {
      "cell_type": "code",
      "execution_count": 24,
      "id": "4b331079",
      "metadata": {
        "execution": {
          "iopub.execute_input": "2023-09-27T07:48:31.855513Z",
          "iopub.status.busy": "2023-09-27T07:48:31.855134Z",
          "iopub.status.idle": "2023-09-27T07:48:35.814790Z",
          "shell.execute_reply": "2023-09-27T07:48:35.813822Z"
        },
        "papermill": {
          "duration": 3.974891,
          "end_time": "2023-09-27T07:48:35.817403",
          "exception": false,
          "start_time": "2023-09-27T07:48:31.842512",
          "status": "completed"
        },
        "tags": [],
        "id": "4b331079"
      },
      "outputs": [],
      "source": [
        "# Define hyperparameters\n",
        "units = 64\n",
        "dropout_rate = 0.2\n",
        "\n",
        "# Create and compile the models\n",
        "# RNN\n",
        "rnn_model = create_rnn_model(num_words, max_len, units, dropout_rate)\n",
        "rnn_model.compile(optimizer='adam', loss='binary_crossentropy', metrics=['accuracy'])\n",
        "\n",
        "# LSTM\n",
        "lstm_model = create_lstm_model(num_words, max_len, units, dropout_rate)\n",
        "lstm_model.compile(optimizer='adam', loss='binary_crossentropy', metrics=['accuracy'])\n",
        "\n",
        "# GRU\n",
        "gru_model = create_gru_model(num_words, max_len, units, dropout_rate)\n",
        "gru_model.compile(optimizer='adam', loss='binary_crossentropy', metrics=['accuracy'])\n"
      ]
    },
    {
      "cell_type": "code",
      "execution_count": 25,
      "id": "0fa376cc",
      "metadata": {
        "execution": {
          "iopub.execute_input": "2023-09-27T07:48:35.841667Z",
          "iopub.status.busy": "2023-09-27T07:48:35.840797Z",
          "iopub.status.idle": "2023-09-27T07:48:35.847478Z",
          "shell.execute_reply": "2023-09-27T07:48:35.845682Z"
        },
        "papermill": {
          "duration": 0.021611,
          "end_time": "2023-09-27T07:48:35.850403",
          "exception": false,
          "start_time": "2023-09-27T07:48:35.828792",
          "status": "completed"
        },
        "tags": [],
        "id": "0fa376cc"
      },
      "outputs": [],
      "source": [
        "# Train the models with early stopping\n",
        "early_stopping = EarlyStopping(patience=3, restore_best_weights=True)"
      ]
    },
    {
      "cell_type": "markdown",
      "id": "1c41d5a2",
      "metadata": {
        "papermill": {
          "duration": 0.011975,
          "end_time": "2023-09-27T07:48:35.874406",
          "exception": false,
          "start_time": "2023-09-27T07:48:35.862431",
          "status": "completed"
        },
        "tags": [],
        "id": "1c41d5a2"
      },
      "source": [
        "## 6.Training"
      ]
    },
    {
      "cell_type": "code",
      "execution_count": 26,
      "id": "3ed8809a",
      "metadata": {
        "execution": {
          "iopub.execute_input": "2023-09-27T07:48:35.895964Z",
          "iopub.status.busy": "2023-09-27T07:48:35.895639Z",
          "iopub.status.idle": "2023-09-27T07:51:15.115943Z",
          "shell.execute_reply": "2023-09-27T07:51:15.114864Z"
        },
        "papermill": {
          "duration": 159.233894,
          "end_time": "2023-09-27T07:51:15.118324",
          "exception": false,
          "start_time": "2023-09-27T07:48:35.884430",
          "status": "completed"
        },
        "tags": [],
        "colab": {
          "base_uri": "https://localhost:8080/"
        },
        "id": "3ed8809a",
        "outputId": "cb5c90a2-7996-44aa-ee6d-58e60acfc6ff"
      },
      "outputs": [
        {
          "output_type": "stream",
          "name": "stdout",
          "text": [
            "Epoch 1/10\n"
          ]
        },
        {
          "output_type": "stream",
          "name": "stderr",
          "text": [
            "/usr/local/lib/python3.10/dist-packages/tensorflow/python/data/ops/structured_function.py:265: UserWarning: Even though the `tf.config.experimental_run_functions_eagerly` option is set, this option does not apply to tf.data functions. To force eager execution of tf.data functions, please use `tf.data.experimental.enable_debug_mode()`.\n",
            "  warnings.warn(\n"
          ]
        },
        {
          "output_type": "stream",
          "name": "stdout",
          "text": [
            "25/25 [==============================] - 26s 1s/step - loss: 0.5649 - accuracy: 0.7471 - val_loss: 0.3521 - val_accuracy: 0.8564\n",
            "Epoch 2/10\n",
            "25/25 [==============================] - 24s 953ms/step - loss: 0.2682 - accuracy: 0.8631 - val_loss: 0.2053 - val_accuracy: 0.8564\n",
            "Epoch 3/10\n",
            "25/25 [==============================] - 24s 966ms/step - loss: 0.1504 - accuracy: 0.8994 - val_loss: 0.1391 - val_accuracy: 0.9590\n",
            "Epoch 4/10\n",
            "25/25 [==============================] - 25s 1s/step - loss: 0.0677 - accuracy: 0.9875 - val_loss: 0.0799 - val_accuracy: 0.9808\n",
            "Epoch 5/10\n",
            "25/25 [==============================] - 24s 970ms/step - loss: 0.0261 - accuracy: 0.9939 - val_loss: 0.0739 - val_accuracy: 0.9821\n",
            "Epoch 6/10\n",
            "25/25 [==============================] - 26s 1s/step - loss: 0.0109 - accuracy: 0.9974 - val_loss: 0.1360 - val_accuracy: 0.9808\n",
            "Epoch 7/10\n",
            "25/25 [==============================] - 25s 1s/step - loss: 0.0079 - accuracy: 0.9987 - val_loss: 0.1119 - val_accuracy: 0.9821\n",
            "Epoch 8/10\n",
            "25/25 [==============================] - 26s 1s/step - loss: 0.0066 - accuracy: 0.9984 - val_loss: 0.0914 - val_accuracy: 0.9821\n",
            "Epoch 1/10\n",
            "25/25 [==============================] - 53s 2s/step - loss: 3.2340 - accuracy: 0.8378 - val_loss: 0.5154 - val_accuracy: 0.8564\n",
            "Epoch 2/10\n",
            "25/25 [==============================] - 53s 2s/step - loss: 1.0211 - accuracy: 0.8631 - val_loss: 0.3359 - val_accuracy: 0.8564\n",
            "Epoch 3/10\n",
            "25/25 [==============================] - 53s 2s/step - loss: 0.4134 - accuracy: 0.8631 - val_loss: 0.4055 - val_accuracy: 0.8564\n",
            "Epoch 4/10\n",
            "25/25 [==============================] - 54s 2s/step - loss: 5.5034 - accuracy: 0.9090 - val_loss: 0.4476 - val_accuracy: 0.9551\n",
            "Epoch 5/10\n",
            "25/25 [==============================] - 59s 2s/step - loss: 72.6216 - accuracy: 0.9734 - val_loss: 0.2851 - val_accuracy: 0.9551\n",
            "Epoch 6/10\n",
            "25/25 [==============================] - 54s 2s/step - loss: 0.2635 - accuracy: 0.9753 - val_loss: 0.2610 - val_accuracy: 0.9641\n",
            "Epoch 7/10\n",
            "25/25 [==============================] - 58s 2s/step - loss: 43217.3164 - accuracy: 0.9795 - val_loss: 0.2496 - val_accuracy: 0.9679\n",
            "Epoch 8/10\n",
            "25/25 [==============================] - 59s 2s/step - loss: 62.0716 - accuracy: 0.9708 - val_loss: 1.8420 - val_accuracy: 0.9564\n",
            "Epoch 9/10\n",
            "25/25 [==============================] - 61s 2s/step - loss: 0.2317 - accuracy: 0.9753 - val_loss: 1.9380 - val_accuracy: 0.9628\n",
            "Epoch 10/10\n",
            "25/25 [==============================] - 56s 2s/step - loss: 0.6459 - accuracy: 0.9776 - val_loss: 2.9147 - val_accuracy: 0.9628\n",
            "Epoch 1/10\n",
            "25/25 [==============================] - 66s 3s/step - loss: 0.5381 - accuracy: 0.8484 - val_loss: 0.3702 - val_accuracy: 0.8564\n",
            "Epoch 2/10\n",
            "25/25 [==============================] - 69s 3s/step - loss: 0.2521 - accuracy: 0.8631 - val_loss: 0.2136 - val_accuracy: 0.8564\n",
            "Epoch 3/10\n",
            "25/25 [==============================] - 69s 3s/step - loss: 0.1534 - accuracy: 0.8923 - val_loss: 0.1603 - val_accuracy: 0.9359\n",
            "Epoch 4/10\n",
            "25/25 [==============================] - 67s 3s/step - loss: 0.0993 - accuracy: 0.9801 - val_loss: 0.0878 - val_accuracy: 0.9769\n",
            "Epoch 5/10\n",
            "25/25 [==============================] - 69s 3s/step - loss: 0.0677 - accuracy: 0.9888 - val_loss: 0.0782 - val_accuracy: 0.9769\n",
            "Epoch 6/10\n",
            "25/25 [==============================] - 69s 3s/step - loss: 0.0348 - accuracy: 0.9907 - val_loss: 0.0768 - val_accuracy: 0.9808\n",
            "Epoch 7/10\n",
            "25/25 [==============================] - 65s 3s/step - loss: 0.0175 - accuracy: 0.9958 - val_loss: 0.0863 - val_accuracy: 0.9846\n",
            "Epoch 8/10\n",
            "25/25 [==============================] - 68s 3s/step - loss: 0.0084 - accuracy: 0.9981 - val_loss: 0.1049 - val_accuracy: 0.9859\n",
            "Epoch 9/10\n",
            "25/25 [==============================] - 64s 3s/step - loss: 0.0055 - accuracy: 0.9984 - val_loss: 0.1271 - val_accuracy: 0.9859\n"
          ]
        }
      ],
      "source": [
        "# Train the models\n",
        "\n",
        "# RNN\n",
        "rnn_history = rnn_model.fit(X_train_padded, y_train, epochs=10, batch_size=128,\n",
        "                            validation_split=0.2, callbacks=[early_stopping])\n",
        "\n",
        "# LSTM\n",
        "lstm_history = lstm_model.fit(X_train_padded, y_train, epochs=10, batch_size=128,\n",
        "                              validation_split=0.2, callbacks=[early_stopping])\n",
        "\n",
        "# GRU\n",
        "gru_history = gru_model.fit(X_train_padded, y_train, epochs=10, batch_size=128,\n",
        "                            validation_split=0.2, callbacks=[early_stopping])"
      ]
    },
    {
      "cell_type": "markdown",
      "id": "a6a7388c",
      "metadata": {
        "papermill": {
          "duration": 0.05814,
          "end_time": "2023-09-27T07:51:15.235291",
          "exception": false,
          "start_time": "2023-09-27T07:51:15.177151",
          "status": "completed"
        },
        "tags": [],
        "id": "a6a7388c"
      },
      "source": [
        "## 7.Metrics"
      ]
    },
    {
      "cell_type": "code",
      "execution_count": 27,
      "id": "a0ba22cb",
      "metadata": {
        "execution": {
          "iopub.execute_input": "2023-09-27T07:51:15.354915Z",
          "iopub.status.busy": "2023-09-27T07:51:15.354514Z",
          "iopub.status.idle": "2023-09-27T07:51:15.361643Z",
          "shell.execute_reply": "2023-09-27T07:51:15.360721Z"
        },
        "papermill": {
          "duration": 0.071437,
          "end_time": "2023-09-27T07:51:15.364180",
          "exception": false,
          "start_time": "2023-09-27T07:51:15.292743",
          "status": "completed"
        },
        "tags": [],
        "colab": {
          "base_uri": "https://localhost:8080/"
        },
        "id": "a0ba22cb",
        "outputId": "67fbb908-8dc7-42fa-bb40-b6200e075aed"
      },
      "outputs": [
        {
          "output_type": "stream",
          "name": "stdout",
          "text": [
            "RNN Validation Accuracy: 0.9820512533187866\n",
            "LSTM Validation Accuracy: 0.9679487347602844\n",
            "GRU Validation Accuracy: 0.985897421836853\n",
            "--------------------------------------------------\n",
            "Max Validation Accuracy: 0.985897421836853\n"
          ]
        }
      ],
      "source": [
        "rnn_val_acc = max(rnn_history.history['val_accuracy'])\n",
        "lstm_val_acc = max(lstm_history.history['val_accuracy'])\n",
        "gru_val_acc = max(gru_history.history['val_accuracy'])\n",
        "max_val_acc = max(rnn_val_acc, lstm_val_acc, gru_val_acc)\n",
        "\n",
        "\n",
        "print(\"RNN Validation Accuracy:\", rnn_val_acc)\n",
        "print(\"LSTM Validation Accuracy:\", lstm_val_acc)\n",
        "print(\"GRU Validation Accuracy:\", gru_val_acc)\n",
        "print('-' * 50)\n",
        "print(\"Max Validation Accuracy:\", max_val_acc)"
      ]
    },
    {
      "cell_type": "markdown",
      "id": "e34c6760",
      "metadata": {
        "papermill": {
          "duration": 0.058318,
          "end_time": "2023-09-27T07:51:15.480519",
          "exception": false,
          "start_time": "2023-09-27T07:51:15.422201",
          "status": "completed"
        },
        "tags": [],
        "id": "e34c6760"
      },
      "source": [
        "## 8.Saving the Models"
      ]
    },
    {
      "cell_type": "code",
      "execution_count": 28,
      "id": "d097bc02",
      "metadata": {
        "execution": {
          "iopub.execute_input": "2023-09-27T07:51:15.597196Z",
          "iopub.status.busy": "2023-09-27T07:51:15.596824Z",
          "iopub.status.idle": "2023-09-27T07:51:15.602676Z",
          "shell.execute_reply": "2023-09-27T07:51:15.601634Z"
        },
        "papermill": {
          "duration": 0.067153,
          "end_time": "2023-09-27T07:51:15.605190",
          "exception": false,
          "start_time": "2023-09-27T07:51:15.538037",
          "status": "completed"
        },
        "tags": [],
        "id": "d097bc02"
      },
      "outputs": [],
      "source": [
        "# Define a function to save the models\n",
        "from tensorflow.keras.models import save_model\n",
        "from datetime import datetime\n",
        "\n",
        "def save_model(model, prefix=''):\n",
        "    current_datetime = datetime.now().strftime(\"%Y-%m-%d_%H-%M-%S\")\n",
        "    filename = f\"{prefix}model_{current_datetime}.h5\"\n",
        "\n",
        "    model.save(f'{filename}')\n",
        "    print(f\"Model saved to {filename}\")"
      ]
    },
    {
      "cell_type": "code",
      "source": [],
      "metadata": {
        "id": "dySGngSDEixg"
      },
      "id": "dySGngSDEixg",
      "execution_count": null,
      "outputs": []
    }
  ],
  "metadata": {
    "kernelspec": {
      "display_name": "Python 3",
      "language": "python",
      "name": "python3"
    },
    "language_info": {
      "codemirror_mode": {
        "name": "ipython",
        "version": 3
      },
      "file_extension": ".py",
      "mimetype": "text/x-python",
      "name": "python",
      "nbconvert_exporter": "python",
      "pygments_lexer": "ipython3",
      "version": "3.10.12"
    },
    "papermill": {
      "default_parameters": {},
      "duration": 181.635669,
      "end_time": "2023-09-27T07:51:18.924165",
      "environment_variables": {},
      "exception": null,
      "input_path": "__notebook__.ipynb",
      "output_path": "__notebook__.ipynb",
      "parameters": {},
      "start_time": "2023-09-27T07:48:17.288496",
      "version": "2.4.0"
    },
    "colab": {
      "provenance": []
    }
  },
  "nbformat": 4,
  "nbformat_minor": 5
}